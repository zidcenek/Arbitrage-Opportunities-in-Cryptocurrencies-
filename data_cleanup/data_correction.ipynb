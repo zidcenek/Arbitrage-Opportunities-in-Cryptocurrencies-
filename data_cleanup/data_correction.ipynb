{
 "cells": [
  {
   "cell_type": "code",
   "execution_count": 40,
   "metadata": {
    "scrolled": true
   },
   "outputs": [],
   "source": [
    "import pandas as pd\n",
    "from os.path import isfile, join, isdir, getsize\n",
    "from os import listdir\n",
    "import numpy as np"
   ]
  },
  {
   "cell_type": "code",
   "execution_count": 41,
   "metadata": {},
   "outputs": [],
   "source": [
    "def fetch_directories(path: str) -> [str]:\n",
    "    '''\n",
    "    Fetches all directories in the given path \n",
    "    '''\n",
    "    directories = []\n",
    "    try:\n",
    "        directories = [join(path, f) for f in listdir(path) if isdir(join(path, f))] \n",
    "    except:\n",
    "        print(\"Trouble opening a directory\")\n",
    "        return directories\n",
    "    return directories\n",
    "\n",
    "def fetch_files(path: str) -> [str]:    \n",
    "    '''\n",
    "    Fetches all files in the given path \n",
    "    '''\n",
    "    files = []\n",
    "    try:\n",
    "        files = [f for f in listdir(path) if isfile(join(path, f))] \n",
    "    except:\n",
    "        print(\"Trouble opening a directory\")\n",
    "        return files\n",
    "    return files"
   ]
  },
  {
   "cell_type": "code",
   "execution_count": 42,
   "metadata": {},
   "outputs": [],
   "source": [
    "def is_float(x):\n",
    "    try:\n",
    "        float(x)\n",
    "    except ValueError:\n",
    "        return False\n",
    "    return True"
   ]
  },
  {
   "cell_type": "code",
   "execution_count": 43,
   "metadata": {},
   "outputs": [],
   "source": [
    "def clean_csv(filename):\n",
    "    if getsize(filename) == 0:\n",
    "        return None\n",
    "    cols = pd.read_csv(filename, nrows=1, delimiter=';').columns\n",
    "    df = pd.read_csv(filename, usecols=cols, delimiter=';', skip_blank_lines=True, error_bad_lines=False, \n",
    "                         warn_bad_lines=False, dtype=str)\n",
    "    df.columns = ['id', 'demand', 'supply', 'timestamp', 'none']\n",
    "    df = df[df.id.apply(lambda x: x.isnumeric())]\n",
    "    df = df[df.timestamp.apply(lambda x: is_float(x))]\n",
    "    df = df.sort_values(['id', 'timestamp'])\n",
    "    df = df.drop(['none'], axis=1)\n",
    "    df = df.dropna()\n",
    "    df = df.drop_duplicates('id')\n",
    "    return df"
   ]
  },
  {
   "cell_type": "code",
   "execution_count": 1,
   "metadata": {},
   "outputs": [],
   "source": [
    "def cleanup(path: str, output_path: str, children_directories: bool):\n",
    "    if children_directories:\n",
    "        for directory in fetch_directories(path):\n",
    "            for files in fetch_files(directory), directory, directory[len(path):]:\n",
    "                for f in files:\n",
    "                    if len(f) < 10:\n",
    "                        continue\n",
    "                    print(directory + '/' + f)\n",
    "                    df = clean_csv(directory + '/' + f)\n",
    "                    if df is not None:\n",
    "                        df.to_csv(output_path + directory[len(path):] + '/' + f, sep=';', header=False, index=False)\n",
    "                    df = None\n",
    "    else:\n",
    "        for directory in path:\n",
    "            for files in fetch_files(directory), directory, directory[len(path):]:\n",
    "                for f in files:\n",
    "                    if len(f) < 10:\n",
    "                        continue\n",
    "                    print(directory + '/' + f)\n",
    "                    df = clean_csv(directory + '/' + f)\n",
    "                    if df is not None:\n",
    "                        df.to_csv(output_path + directory + '/' + f, sep=';', header=False, index=False)\n",
    "                    df = None"
   ]
  },
  {
   "cell_type": "code",
   "execution_count": null,
   "metadata": {},
   "outputs": [],
   "source": [
    "dirs = [\n",
    "    '../data_02-18=21/',\n",
    "    '../data_02-20=23/',\n",
    "    '../data_02-23=26/',\n",
    "    '../data_02-26=01/',\n",
    "    '../data_03-01=06/',\n",
    "    '../data_03-11=15/',\n",
    "]\n",
    "output_path = '../out/'\n",
    "for path in dirs:\n",
    "    cleanup(path, output_path, children_directories=False)"
   ]
  }
 ],
 "metadata": {
  "kernelspec": {
   "display_name": "Python 3",
   "language": "python",
   "name": "python3"
  },
  "language_info": {
   "codemirror_mode": {
    "name": "ipython",
    "version": 3
   },
   "file_extension": ".py",
   "mimetype": "text/x-python",
   "name": "python",
   "nbconvert_exporter": "python",
   "pygments_lexer": "ipython3",
   "version": "3.7.3"
  }
 },
 "nbformat": 4,
 "nbformat_minor": 2
}
